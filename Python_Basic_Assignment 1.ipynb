{
 "cells": [
  {
   "cell_type": "markdown",
   "metadata": {},
   "source": [
    "                                            Python Assignment 1"
   ]
  },
  {
   "cell_type": "markdown",
   "metadata": {},
   "source": [
    "1. What are the differences between operators and values in the following?\n",
    "A)\n",
    "i)*: is a mathematical operator and is used for multiplication of integer values\n",
    "\n",
    "ii)'hello' :is a string value tbat is generally assigned to a variable and call whenever required \n",
    "\n",
    "iii)-87.8 : is a float value(a number with decimal points)  \n",
    "\n",
    "iv)-: is a mathematical operator and used for subtraction of two integers \n",
    "\n",
    "v)/ : is another mathematical operator used for division of two integers\n",
    "\n",
    "vi) +: is a mathematical oeprator used for addition of two integers\n",
    "\n",
    "vii) 6: is an integer value (whole number without decimal)\n"
   ]
  },
  {
   "cell_type": "markdown",
   "metadata": {},
   "source": [
    "2. What is the difference between string and variable?\n",
    "spam\n",
    "'spam'\n",
    "\n",
    "A) \n",
    " spam: is a variable where one can assign value and recall whenever needed (Ex. spam=10 or spam='hello' etc)\n",
    "'spam': is a string which is an assigned value to a variable (Ex. a='spam')"
   ]
  },
  {
   "cell_type": "markdown",
   "metadata": {},
   "source": [
    "3. Describe three different data forms?\n",
    "\n",
    "A) \n",
    "1) Integer: is a specific numerical value without a decimal point  (0,1,2... etc)\n",
    "\n",
    "2) String: is a character or word or statement that is generally defined in single or double quotes (Ex. 'Hello Sainath'\n",
    "\n",
    "3) Float: numerical value with decimal point (Ex. 1.10)\n",
    "\n",
    "4) Boolian: Values resumbling either with True or False where False is 0 and Ture is 1\n",
    "\n",
    "5) Complex: Value with combination of alphnumeric (only takes j) & Math operator (Ex. 2+3j)\n"
   ]
  },
  {
   "cell_type": "markdown",
   "metadata": {},
   "source": [
    "4. What makes up an expression? What are the functions of all expressions?\n",
    "\n",
    "A) An expression in a programming language is a combination of one or more explicit values, constants, variables, operators and functions that the programming language interprets and computes to produce another value"
   ]
  },
  {
   "cell_type": "markdown",
   "metadata": {},
   "source": [
    "5. In this chapter, assignment statements such as spam = 10 were added. What's the difference between an expression and a statement?\n",
    "\n",
    "A) An expression is a combination of variables, operations and values that yeild a result value whereas a statement is a command or action like print... "
   ]
  },
  {
   "cell_type": "markdown",
   "metadata": {},
   "source": [
    "6. After running the following code, what does the variable bacon contain?\n",
    "\n",
    "bacon = 22\n",
    "bacon + 1\n",
    "\n",
    "A) bacon contains value 22 as it is an assigned value "
   ]
  },
  {
   "cell_type": "markdown",
   "metadata": {},
   "source": [
    "7. What should the values of the following two terms be?\n",
    "\n",
    "'spam' + 'spamspam'\n",
    "\n",
    "'spam' * 3\n",
    "\n",
    "A) Output would be same as shown below\n",
    "\n",
    "'spamspamspam'\n",
    "\n",
    "'spamspamspam'"
   ]
  },
  {
   "cell_type": "markdown",
   "metadata": {},
   "source": [
    "8. Why is it that eggs is a true variable name but 100 is not?\n",
    "\n",
    "A) Because 100 is an integer value which cannot be defined as variable in python, if tried to use as variable then  python provides below syntax error\n",
    "\n",
    "SyntaxError: can't assign to literal\n"
   ]
  },
  {
   "cell_type": "markdown",
   "metadata": {},
   "source": [
    "9. What three functions can be used to get the integer, floating-point number, or string version of a value?\n",
    "\n",
    "A) \n",
    "Interger Value: int()\n",
    "String value: str()\n",
    "Float-point number: float()\n",
    "Example:\n",
    "a=10\n",
    "print(int(a))   # returns integer value\n",
    "print(str(a))   # returns string value\n",
    "print(float(a)) # returns float value"
   ]
  },
  {
   "cell_type": "markdown",
   "metadata": {},
   "source": [
    "10. What is the error caused by this expression? What would you do about it?\n",
    "\n",
    "'I have eaten ' + 99 + ' burritos.'\n",
    "\n",
    "A) Python provides type error in the above case as concatenation is done string to string and not integer\n"
   ]
  },
  {
   "cell_type": "code",
   "execution_count": null,
   "metadata": {},
   "outputs": [],
   "source": []
  }
 ],
 "metadata": {
  "kernelspec": {
   "display_name": "Python 3",
   "language": "python",
   "name": "python3"
  },
  "language_info": {
   "codemirror_mode": {
    "name": "ipython",
    "version": 3
   },
   "file_extension": ".py",
   "mimetype": "text/x-python",
   "name": "python",
   "nbconvert_exporter": "python",
   "pygments_lexer": "ipython3",
   "version": "3.7.3"
  }
 },
 "nbformat": 4,
 "nbformat_minor": 2
}
