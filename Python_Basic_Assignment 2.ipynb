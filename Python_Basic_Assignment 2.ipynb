{
 "cells": [
  {
   "cell_type": "markdown",
   "metadata": {},
   "source": [
    "                                    Python Basics Assignment 2"
   ]
  },
  {
   "cell_type": "markdown",
   "metadata": {},
   "source": [
    "1. What are the two values of the Boolean data type? How do you write them?\n",
    "\n",
    "A) Below are the two values of Boolean data type\n",
    "True which represents – 1\n",
    "False which represents - 0\n",
    "Example:\n",
    "bool()    # Returns False\n",
    "bool(123)  #Returns True"
   ]
  },
  {
   "cell_type": "markdown",
   "metadata": {},
   "source": [
    "2. What are the three Boolean operators?\n",
    "\n",
    "A) Three Boolean operators are: \n",
    "i) and \n",
    "ii) or\n",
    "iii)not"
   ]
  },
  {
   "cell_type": "markdown",
   "metadata": {},
   "source": [
    "3. Write out the truth tables of each Boolean operator (that is, every possible combination of Boolean values for the operator and what they evaluate to).\n",
    "\n",
    "A)\n",
    "i) And operator:\n",
    "True(1) and True(1)  = True(1)\n",
    "True(1)  and False(0) = False(0)\n",
    "False(0) and True(1)  = False(0)\n",
    "False(0) and False(0) = False(0)\n",
    "\n",
    "ii) Or Operator\n",
    "True(1)  or True(1) = True(1)\n",
    "True(1)  or False(0)= True(1)\n",
    "False(0) or True(1)  = True(1)\n",
    "False(0) or False(0) = False(0)\n",
    " \n",
    "iii) not operator\n",
    "not True(1) = False(0)\n",
    "not False(0)= True(1)\n",
    "not True(1) and not False(0) = False(0)\n",
    "not True(1) or not False(0)= True(1)\n",
    "not False(0) and not False(0)= True(1)\n",
    "not True(1)and not True(1)= False(0)\n"
   ]
  },
  {
   "cell_type": "markdown",
   "metadata": {},
   "source": [
    "4. What do the following expressions evaluate to?\n",
    "\n",
    "A) \n",
    "(5 > 4) and (3 == 5)   - False\n",
    "\n",
    "not (5 > 4)    - False\n",
    "\n",
    "(5 > 4) or (3 == 5)  - True\n",
    "\n",
    "not ((5 > 4) or (3 == 5)) - False\n",
    "\n",
    "(True and True) and (True == False) - False\n",
    "\n",
    "(not False) or (not True) - True "
   ]
  },
  {
   "cell_type": "markdown",
   "metadata": {},
   "source": [
    "5. What are the six comparison operators?\n",
    "\n",
    "A)\n",
    "1) ==  : equal to\n",
    "2) >= : greater than equal to\n",
    "3) <= : less than equal to\n",
    "4) != : not equal to\n",
    "5) > : greater than\n",
    "6) < : less than\n"
   ]
  },
  {
   "cell_type": "markdown",
   "metadata": {},
   "source": [
    "6. What is the difference between the equal to operator and the assignment operator?\n",
    "\n",
    "A)\n",
    "Equal to operator is used to compare two values of variables. Ex: a==b or a!=b etc..\n",
    "\n",
    "Assignment operator is used to assign a value to a variable. Ex: a=5 or a+=5 etc.."
   ]
  },
  {
   "cell_type": "code",
   "execution_count": null,
   "metadata": {},
   "outputs": [],
   "source": [
    "\"\"\"7. Explain what a condition is and where you would use one.\n",
    "\n",
    "A) Conditions are statements created to evaluate the actions in a program and also, evaluates if it's true or false. If-elif-else statement allows conditional execution based on the evaluation of an expression\n",
    "\n",
    "Example:\"\"\"\n",
    "a = 33\n",
    "b = 200\n",
    "if b > a:\n",
    "    print(\"b is greater than a\")\n"
   ]
  },
  {
   "cell_type": "code",
   "execution_count": null,
   "metadata": {},
   "outputs": [],
   "source": [
    "\"\"\"8. Identify the three blocks in this code:\n",
    "\n",
    "A)\"\"\"\n",
    "spam = 0\n",
    "if spam == 10:\n",
    "    print('eggs')\n",
    "    if spam > 5:   ######indentation error\n",
    "        print('bacon')    ######indentation error\n",
    "    else: ######indentation error\n",
    "        print('ham') ######indentation error\n",
    "    print('spam')   ##unnecessary print statement\n",
    "print('spam')       ##unnecessary print statement\n",
    "\n",
    "\n",
    "A) There is an identation error as well as unncessary print statements which is overiding the actual results, below is accurate programming \n",
    "spam = 0\n",
    "if spam == 10:\n",
    "    print('eggs')\n",
    "elif spam > 5:\n",
    "    print('bacon')\n",
    "else:\n",
    "    print('ham')"
   ]
  },
  {
   "cell_type": "code",
   "execution_count": null,
   "metadata": {},
   "outputs": [],
   "source": [
    "\n",
    "\"\"\"9. Write code that prints Hello if 1 is stored in spam, prints Howdy if 2 is stored in spam, and prints Greetings! if anything else is stored in spam.\n",
    "\n",
    "A)\"\"\"\n",
    "spam=int(input('please enter a number'))\n",
    "if spam==1:\n",
    "    print('Hello')\n",
    "elif spam==2:\n",
    "    print('Howdy')\n",
    "else:\n",
    "    print('Greetings')\n"
   ]
  },
  {
   "cell_type": "markdown",
   "metadata": {},
   "source": [
    "10. What keys can you press if your program is stuck in an infinite loop?\n",
    "\n",
    "A) Kernal -> Interrupt  (Esc + i i)\n"
   ]
  },
  {
   "cell_type": "code",
   "execution_count": 23,
   "metadata": {},
   "outputs": [
    {
     "name": "stdout",
     "output_type": "stream",
     "text": [
      "1\n",
      "2\n",
      "3\n",
      "1\n",
      "2\n",
      "4\n",
      "5\n",
      "6\n"
     ]
    }
   ],
   "source": [
    "\"\"\"11. What is the difference between break and continue?\n",
    "\n",
    "A)Break and continue statements are used in loops (for and while)\n",
    "break: With the break statement we can stop the loop even if the condition is true \n",
    "Example:\"\"\"\n",
    "i = 1\n",
    "while i < 6:\n",
    "    print(i)\n",
    "    if i == 3:\n",
    "        break\n",
    "    i += 1\n",
    "\"\"\"Continue: With the continue statement we can stop the current iteration, and continue with next iteration\n",
    "Example:\"\"\"\n",
    "i = 0\n",
    "while i < 6:\n",
    "    i += 1\n",
    "    if i == 3:\n",
    "        continue\n",
    "    print(i) \n"
   ]
  },
  {
   "cell_type": "markdown",
   "metadata": {},
   "source": [
    "12. What is the difference between range(10), range(0, 10), and range(0, 10, 1) in a for loop?\n",
    "\n",
    "A)\n",
    "In all these three cases of range function (range (10), range(0,10) and range(0,10,1)), the for loop takes the range of numbers from 0 to 10 with an incremental value of 1 by default. Ex(0,1,2,3,…9).\n",
    "Three cases explained in detail:\n",
    "range(10): loop considers 0 as default first number even though the user did not mention and then increments by 1 up to 9\n",
    "range(0,10): In this case, user defined the starting point as 0 and the loop increments by 1 up to 9\n",
    "range(0,10,1): In this case, user defined the starting point as 0 up to 9 with incremental value by 1\n"
   ]
  },
  {
   "cell_type": "code",
   "execution_count": 24,
   "metadata": {},
   "outputs": [
    {
     "name": "stdout",
     "output_type": "stream",
     "text": [
      "0\n",
      "1\n",
      "2\n",
      "3\n",
      "4\n",
      "5\n",
      "6\n",
      "7\n",
      "8\n",
      "9\n",
      "10\n",
      "0\n",
      "1\n",
      "2\n",
      "3\n",
      "4\n",
      "5\n",
      "6\n",
      "7\n",
      "8\n",
      "9\n",
      "10\n"
     ]
    }
   ],
   "source": [
    "\"\"\"13. Write a short program that prints the numbers 1 to 10 using a for loop. Then write an equivalent program that prints the numbers 1 to 10 using a while loop.\n",
    "\n",
    "A) Using For loop:\"\"\"\n",
    "for i in range(0,11):\n",
    "    print(i)\n",
    "#Using While loop:\n",
    "i=0\n",
    "while i<11:\n",
    "    print(i)\n",
    "    i+=1\n"
   ]
  },
  {
   "cell_type": "markdown",
   "metadata": {},
   "source": [
    "14. If you had a function named bacon() inside a module named spam, how would you call it after importing spam?\n",
    "\n",
    "A) \n",
    "import spam\n",
    "spam.bacon()"
   ]
  }
 ],
 "metadata": {
  "kernelspec": {
   "display_name": "Python 3",
   "language": "python",
   "name": "python3"
  },
  "language_info": {
   "codemirror_mode": {
    "name": "ipython",
    "version": 3
   },
   "file_extension": ".py",
   "mimetype": "text/x-python",
   "name": "python",
   "nbconvert_exporter": "python",
   "pygments_lexer": "ipython3",
   "version": "3.7.3"
  }
 },
 "nbformat": 4,
 "nbformat_minor": 2
}
